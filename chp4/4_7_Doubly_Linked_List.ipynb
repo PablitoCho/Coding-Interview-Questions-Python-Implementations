{
 "cells": [
  {
   "cell_type": "code",
   "execution_count": 4,
   "metadata": {},
   "outputs": [
    {
     "name": "stdout",
     "output_type": "stream",
     "text": [
      "Once deleted, variables cannot be recovered. Proceed (y/[n])? y\n"
     ]
    }
   ],
   "source": [
    "%reset\n",
    "class DLLNode:\n",
    "    def __init__(self, data):\n",
    "        self.data = data\n",
    "        self.next = None\n",
    "        self.prev = None\n",
    "    def __repr__(self):\n",
    "        return \"data : \" + str(self.data)\n",
    "    \n",
    "class DoublyLinkedList:\n",
    "    def __init__(self, head):\n",
    "        self.head = head\n",
    "    \n",
    "    def Length(self):\n",
    "        count = 1\n",
    "        current = self.head\n",
    "        while current.next is not None:\n",
    "            count += 1\n",
    "            current = current.next\n",
    "        return count\n",
    "    \n",
    "    def DLLInsert(self, data, position):\n",
    "        k = 1\n",
    "        newNode = DLLNode(data)\n",
    "        if position == 1:\n",
    "            newNode.next = self.head\n",
    "            self.head.prev = newNode\n",
    "            self.head = newNode\n",
    "        else:    \n",
    "            temp = self.head\n",
    "            while k < position and temp.next is not None:\n",
    "                temp = temp.next\n",
    "                k += 1   \n",
    "            if temp is None:\n",
    "                print('Desired position ' + str(position) + ' does not exists.')\n",
    "            else:\n",
    "                newNode.next = temp.next\n",
    "                newNode.prev = temp\n",
    "                if temp.next is not None:\n",
    "                    temp.next.prev = newNode\n",
    "                temp.next = newNode\n",
    "                \n",
    "    def DLLDelete(self, position):\n",
    "        k = 1\n",
    "        if position == 1:\n",
    "            self.head = self.head.next\n",
    "            self.head.prev = None\n",
    "        else:\n",
    "            temp = self.head\n",
    "            while k < position and temp.next is not None:\n",
    "                temp = temp.next\n",
    "                k += 1\n",
    "            if temp is None:\n",
    "                print('Desired position ' + str(position) + ' does not exists.')\n",
    "            else:\n",
    "                temp2 = temp.prev\n",
    "                temp2.next = temp.next\n",
    "                if temp.next is not None:\n",
    "                    temp.next.prev = temp2"
   ]
  },
  {
   "cell_type": "code",
   "execution_count": 5,
   "metadata": {},
   "outputs": [
    {
     "data": {
      "text/plain": [
       "3"
      ]
     },
     "execution_count": 5,
     "metadata": {},
     "output_type": "execute_result"
    }
   ],
   "source": [
    "node1 = DLLNode(data = 1)\n",
    "myDLL = DoublyLinkedList(node1)\n",
    "myDLL.DLLInsert(data = 2, position = 2)\n",
    "myDLL.DLLInsert(data = 3, position = 3)\n",
    "myDLL.Length()"
   ]
  },
  {
   "cell_type": "code",
   "execution_count": null,
   "metadata": {},
   "outputs": [],
   "source": []
  }
 ],
 "metadata": {
  "kernelspec": {
   "display_name": "Python 3",
   "language": "python",
   "name": "python3"
  },
  "language_info": {
   "codemirror_mode": {
    "name": "ipython",
    "version": 3
   },
   "file_extension": ".py",
   "mimetype": "text/x-python",
   "name": "python",
   "nbconvert_exporter": "python",
   "pygments_lexer": "ipython3",
   "version": "3.5.5"
  }
 },
 "nbformat": 4,
 "nbformat_minor": 2
}
