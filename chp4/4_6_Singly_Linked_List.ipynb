{
 "cells": [
  {
   "cell_type": "code",
   "execution_count": 64,
   "metadata": {},
   "outputs": [
    {
     "name": "stdout",
     "output_type": "stream",
     "text": [
      "Once deleted, variables cannot be recovered. Proceed (y/[n])? y\n"
     ]
    }
   ],
   "source": [
    "%reset\n",
    "class ListNode:\n",
    "    def __init__(self, data):\n",
    "        self.data = data\n",
    "        self.next = None\n",
    "    def __repr__(self):\n",
    "        return 'data : ' + str(self.data)\n",
    "\n",
    "class LinkedList:\n",
    "    def __init__(self, head):\n",
    "        self.head = head\n",
    "        \n",
    "    def ListLength(self):\n",
    "        current = self.head\n",
    "        count = 0\n",
    "        while current is not None:\n",
    "            count += 1\n",
    "            current = current.next\n",
    "        return count\n",
    "    \n",
    "    def InsertInLinkedList(self, data, position):\n",
    "        k = 1\n",
    "        newNode = ListNode(data)\n",
    "        p = self.head\n",
    "        if position == 1:\n",
    "            self.head = newNode\n",
    "            newNode.next = p\n",
    "        else:\n",
    "            while p is not None and k < position:\n",
    "                k += 1\n",
    "                q = p\n",
    "                p = p.next\n",
    "            q.next = newNode\n",
    "            newNode.next = p\n",
    "    def DeleteNodeFromLinkedList(self, position):\n",
    "        k = 1\n",
    "        p = self.head\n",
    "        if position == 1:\n",
    "            self.head = self.head.next\n",
    "        else:\n",
    "            while p is not None and k < position:\n",
    "                k += 1\n",
    "                q = p\n",
    "                p = p.next\n",
    "                if p is None:\n",
    "                    print(\"position : \" + str(position) + \" does not exists.\")\n",
    "                else:\n",
    "                    q.next = p.next"
   ]
  },
  {
   "cell_type": "code",
   "execution_count": 72,
   "metadata": {},
   "outputs": [],
   "source": [
    "node1 = ListNode(1)\n",
    "myList = LinkedList(node1)"
   ]
  },
  {
   "cell_type": "code",
   "execution_count": 73,
   "metadata": {},
   "outputs": [],
   "source": [
    "myList.InsertInLinkedList(2,2)\n",
    "myList.InsertInLinkedList(3,3)"
   ]
  },
  {
   "cell_type": "code",
   "execution_count": 74,
   "metadata": {},
   "outputs": [],
   "source": [
    "myList.DeleteNodeFromLinkedList(1)"
   ]
  },
  {
   "cell_type": "code",
   "execution_count": null,
   "metadata": {},
   "outputs": [],
   "source": []
  }
 ],
 "metadata": {
  "kernelspec": {
   "display_name": "Python 3",
   "language": "python",
   "name": "python3"
  },
  "language_info": {
   "codemirror_mode": {
    "name": "ipython",
    "version": 3
   },
   "file_extension": ".py",
   "mimetype": "text/x-python",
   "name": "python",
   "nbconvert_exporter": "python",
   "pygments_lexer": "ipython3",
   "version": "3.5.5"
  }
 },
 "nbformat": 4,
 "nbformat_minor": 2
}
