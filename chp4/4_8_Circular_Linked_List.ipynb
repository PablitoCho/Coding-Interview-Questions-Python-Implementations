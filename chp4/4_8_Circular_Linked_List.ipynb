{
 "cells": [
  {
   "cell_type": "code",
   "execution_count": 66,
   "metadata": {},
   "outputs": [
    {
     "name": "stdout",
     "output_type": "stream",
     "text": [
      "Once deleted, variables cannot be recovered. Proceed (y/[n])? y\n"
     ]
    }
   ],
   "source": [
    "%reset\n",
    "class CLLNode:\n",
    "    def __init__(self, data):\n",
    "        self.data = data\n",
    "        self.next = None\n",
    "        \n",
    "    def __repr__(self):\n",
    "        return 'data : ' + str(self.data)\n",
    "\n",
    "class CircularLinkedList:\n",
    "    def __init__(self, head):\n",
    "        self.head = head\n",
    "        self.head.next = head\n",
    "    \n",
    "    def CircularListLength(self):\n",
    "        current = self.head\n",
    "        count = 0\n",
    "        if current is None:\n",
    "            return 0\n",
    "        else:\n",
    "            while current != self.head:\n",
    "                current = current.next\n",
    "                count += 1\n",
    "                \n",
    "    def PrintCircularListData(self):\n",
    "        current = self.head\n",
    "        print(current)\n",
    "        current = current.next\n",
    "        while current != self.head:\n",
    "            print(current)\n",
    "            current = current.next\n",
    "            \n",
    "    def InsertAtEndInCLL(self, data):\n",
    "        current = self.head\n",
    "        newNode = CLLNode(data)\n",
    "        while current.next != self.head:\n",
    "            current = current.next\n",
    "        newNode.next = self.head\n",
    "        current.next = newNode\n",
    "        \n",
    "    def InsertAtBeginInCLL(self, data):\n",
    "        current = self.head\n",
    "        newNode = CLLNode(data)\n",
    "        while current.next != self.head:\n",
    "            current = current.next\n",
    "        newNode.next = self.head\n",
    "        current.next = newNode\n",
    "        self.head = newNode\n",
    "    \n",
    "    def DeleteLastNodeFromCLL(self):\n",
    "        temp = self.head\n",
    "        current = self.head\n",
    "        while current.next != self.head:\n",
    "            temp = current\n",
    "            current = current.next\n",
    "        temp.next = current.next\n",
    "        \n",
    "    def DeleteFrontNodeFromCLL(self):\n",
    "        temp = self.head\n",
    "        current = self.head\n",
    "        while current.next != self.head:\n",
    "            current = current.next\n",
    "        current.next = self.head.next"
   ]
  },
  {
   "cell_type": "code",
   "execution_count": 67,
   "metadata": {},
   "outputs": [],
   "source": [
    "node1 = CLLNode(1)"
   ]
  },
  {
   "cell_type": "code",
   "execution_count": 68,
   "metadata": {},
   "outputs": [],
   "source": [
    "myList = CircularLinkedList(node1)"
   ]
  },
  {
   "cell_type": "code",
   "execution_count": 69,
   "metadata": {},
   "outputs": [],
   "source": [
    "myList.InsertAtEndInCLL(2)\n",
    "myList.InsertAtEndInCLL(3)\n",
    "myList.InsertAtEndInCLL(4)"
   ]
  },
  {
   "cell_type": "code",
   "execution_count": 70,
   "metadata": {},
   "outputs": [
    {
     "name": "stdout",
     "output_type": "stream",
     "text": [
      "data : 1\n",
      "data : 2\n",
      "data : 3\n",
      "data : 4\n"
     ]
    }
   ],
   "source": [
    "myList.PrintCircularListData()"
   ]
  },
  {
   "cell_type": "code",
   "execution_count": 71,
   "metadata": {},
   "outputs": [],
   "source": [
    "myList.InsertAtBeginInCLL(0)"
   ]
  },
  {
   "cell_type": "code",
   "execution_count": 72,
   "metadata": {},
   "outputs": [
    {
     "name": "stdout",
     "output_type": "stream",
     "text": [
      "data : 0\n",
      "data : 1\n",
      "data : 2\n",
      "data : 3\n",
      "data : 4\n"
     ]
    }
   ],
   "source": [
    "myList.PrintCircularListData()"
   ]
  },
  {
   "cell_type": "code",
   "execution_count": 73,
   "metadata": {},
   "outputs": [
    {
     "data": {
      "text/plain": [
       "data : 0"
      ]
     },
     "execution_count": 73,
     "metadata": {},
     "output_type": "execute_result"
    }
   ],
   "source": [
    "myList.head"
   ]
  },
  {
   "cell_type": "code",
   "execution_count": 74,
   "metadata": {},
   "outputs": [],
   "source": [
    "myList.DeleteLastNodeFromCLL()"
   ]
  },
  {
   "cell_type": "code",
   "execution_count": 75,
   "metadata": {},
   "outputs": [
    {
     "name": "stdout",
     "output_type": "stream",
     "text": [
      "data : 0\n",
      "data : 1\n",
      "data : 2\n",
      "data : 3\n"
     ]
    }
   ],
   "source": [
    "myList.PrintCircularListData()"
   ]
  },
  {
   "cell_type": "code",
   "execution_count": null,
   "metadata": {},
   "outputs": [],
   "source": []
  }
 ],
 "metadata": {
  "kernelspec": {
   "display_name": "Python 3",
   "language": "python",
   "name": "python3"
  },
  "language_info": {
   "codemirror_mode": {
    "name": "ipython",
    "version": 3
   },
   "file_extension": ".py",
   "mimetype": "text/x-python",
   "name": "python",
   "nbconvert_exporter": "python",
   "pygments_lexer": "ipython3",
   "version": "3.5.5"
  }
 },
 "nbformat": 4,
 "nbformat_minor": 2
}
