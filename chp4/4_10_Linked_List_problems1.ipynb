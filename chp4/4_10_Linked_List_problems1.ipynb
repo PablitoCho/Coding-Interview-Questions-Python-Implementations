{
 "cells": [
  {
   "cell_type": "code",
   "execution_count": 148,
   "metadata": {},
   "outputs": [
    {
     "name": "stdout",
     "output_type": "stream",
     "text": [
      "Once deleted, variables cannot be recovered. Proceed (y/[n])? y\n"
     ]
    }
   ],
   "source": [
    "%reset\n",
    "# Quiz 1\n",
    "# Create stack using linked list\n",
    "class Node:\n",
    "    def __init__(self, data):\n",
    "        self.data = data\n",
    "        self.next = None\n",
    "    def __repr__(self):\n",
    "        return 'data : ' + str(self.data)\n",
    "    \n",
    "class Stack:\n",
    "    def __init__(self):\n",
    "        self.bottom = None\n",
    "        self.top = None\n",
    "        \n",
    "    def push(self, data):\n",
    "        newNode = Node(data)\n",
    "        if self.bottom is None:\n",
    "            self.bottom = newNode\n",
    "            self.top = newNode\n",
    "        else:\n",
    "            self.top.next = newNode\n",
    "            self.top = newNode\n",
    "    \n",
    "    def length(self):\n",
    "        count = 0\n",
    "        current = self.bottom\n",
    "        while current is not None:\n",
    "            count += 1\n",
    "            current = current.next\n",
    "        return count\n",
    "    \n",
    "    def pop(self):\n",
    "        if self.top is None:\n",
    "            print(\"Nothing to pop out.\")\n",
    "        elif self.length() == 1:\n",
    "            temp = self.bottom\n",
    "            self.bottom = None\n",
    "            self.top = None\n",
    "            return temp\n",
    "        else:\n",
    "            current = self.bottom\n",
    "            while current.next is not None:\n",
    "                temp = current\n",
    "                current = current.next\n",
    "            self.top = temp\n",
    "            self.top.next = None\n",
    "            return current\n",
    "        \n",
    "    def printStack(self):\n",
    "        if self.bottom is None:\n",
    "            print('Nothing to print')\n",
    "        else:\n",
    "            current = self.bottom\n",
    "            print(current)\n",
    "            while current != self.top:\n",
    "                current = current.next\n",
    "                print(current)"
   ]
  },
  {
   "cell_type": "code",
   "execution_count": 170,
   "metadata": {},
   "outputs": [],
   "source": [
    "myStack = Stack()\n",
    "myStack.push(1)\n",
    "myStack.push(2)\n",
    "myStack.push(3)\n",
    "myStack.push(4)\n",
    "myStack.push(5)"
   ]
  },
  {
   "cell_type": "code",
   "execution_count": 171,
   "metadata": {},
   "outputs": [
    {
     "name": "stdout",
     "output_type": "stream",
     "text": [
      "data : 1\n",
      "data : 2\n",
      "data : 3\n",
      "data : 4\n",
      "data : 5\n"
     ]
    }
   ],
   "source": [
    "myStack.printStack()"
   ]
  },
  {
   "cell_type": "code",
   "execution_count": 172,
   "metadata": {},
   "outputs": [
    {
     "data": {
      "text/plain": [
       "data : 5"
      ]
     },
     "execution_count": 172,
     "metadata": {},
     "output_type": "execute_result"
    }
   ],
   "source": [
    "myStack.pop()"
   ]
  },
  {
   "cell_type": "code",
   "execution_count": null,
   "metadata": {},
   "outputs": [],
   "source": []
  }
 ],
 "metadata": {
  "kernelspec": {
   "display_name": "Python 3",
   "language": "python",
   "name": "python3"
  },
  "language_info": {
   "codemirror_mode": {
    "name": "ipython",
    "version": 3
   },
   "file_extension": ".py",
   "mimetype": "text/x-python",
   "name": "python",
   "nbconvert_exporter": "python",
   "pygments_lexer": "ipython3",
   "version": "3.5.5"
  }
 },
 "nbformat": 4,
 "nbformat_minor": 2
}
