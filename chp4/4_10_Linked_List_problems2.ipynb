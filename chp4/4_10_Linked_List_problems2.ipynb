{
 "cells": [
  {
   "cell_type": "code",
   "execution_count": 21,
   "metadata": {},
   "outputs": [
    {
     "name": "stdout",
     "output_type": "stream",
     "text": [
      "Once deleted, variables cannot be recovered. Proceed (y/[n])? y\n"
     ]
    }
   ],
   "source": [
    "# Find n-th node from the end of linked list\n",
    "%reset\n",
    "class ListNode:\n",
    "    def __init__(self, data):\n",
    "        self.data = data\n",
    "        self.next = None\n",
    "    def __repr__(self):\n",
    "        return 'data : ' + str(self.data)\n",
    "\n",
    "class LinkedList:\n",
    "    def __init__(self, head):\n",
    "        self.head = head\n",
    "        \n",
    "    def ListLength(self):\n",
    "        current = self.head\n",
    "        count = 0\n",
    "        while current is not None:\n",
    "            count += 1\n",
    "            current = current.next\n",
    "        return count\n",
    "    \n",
    "    def InsertInLinkedList(self, data, position):\n",
    "        k = 1\n",
    "        newNode = ListNode(data)\n",
    "        p = self.head\n",
    "        if position == 1:\n",
    "            self.head = newNode\n",
    "            newNode.next = p\n",
    "        else:\n",
    "            while p is not None and k < position:\n",
    "                k += 1\n",
    "                q = p\n",
    "                p = p.next\n",
    "            q.next = newNode\n",
    "            newNode.next = p\n",
    "    def DeleteNodeFromLinkedList(self, position):\n",
    "        k = 1\n",
    "        p = self.head\n",
    "        if position == 1:\n",
    "            self.head = self.head.next\n",
    "        else:\n",
    "            while p is not None and k < position:\n",
    "                k += 1\n",
    "                q = p\n",
    "                p = p.next\n",
    "                if p is None:\n",
    "                    print(\"position : \" + str(position) + \" does not exists.\")\n",
    "                else:\n",
    "                    q.next = p.next\n",
    "    #added             \n",
    "    def FindNthNodeFromTheEnd(self, position):\n",
    "        length = self.ListLength()\n",
    "        if position > length:\n",
    "            print('Nodes are not enough for your request.')\n",
    "        else:\n",
    "            # n-th from the end is (length - n + 1)-th from the head\n",
    "            current = self.head\n",
    "            for i in range((length - position)):\n",
    "                current = current.next\n",
    "            return current"
   ]
  },
  {
   "cell_type": "code",
   "execution_count": 22,
   "metadata": {},
   "outputs": [],
   "source": [
    "node1 = ListNode(1)\n",
    "myList = LinkedList(node1)"
   ]
  },
  {
   "cell_type": "code",
   "execution_count": 23,
   "metadata": {},
   "outputs": [],
   "source": [
    "myList.InsertInLinkedList(2,2)\n",
    "myList.InsertInLinkedList(3,3)\n",
    "myList.InsertInLinkedList(4,4)\n",
    "myList.InsertInLinkedList(5,5)"
   ]
  },
  {
   "cell_type": "code",
   "execution_count": 25,
   "metadata": {},
   "outputs": [
    {
     "data": {
      "text/plain": [
       "data : 1"
      ]
     },
     "execution_count": 25,
     "metadata": {},
     "output_type": "execute_result"
    }
   ],
   "source": [
    "myList.FindNthNodeFromTheEnd(5)"
   ]
  },
  {
   "cell_type": "code",
   "execution_count": null,
   "metadata": {},
   "outputs": [],
   "source": []
  }
 ],
 "metadata": {
  "kernelspec": {
   "display_name": "Python 3",
   "language": "python",
   "name": "python3"
  },
  "language_info": {
   "codemirror_mode": {
    "name": "ipython",
    "version": 3
   },
   "file_extension": ".py",
   "mimetype": "text/x-python",
   "name": "python",
   "nbconvert_exporter": "python",
   "pygments_lexer": "ipython3",
   "version": "3.5.5"
  }
 },
 "nbformat": 4,
 "nbformat_minor": 2
}
