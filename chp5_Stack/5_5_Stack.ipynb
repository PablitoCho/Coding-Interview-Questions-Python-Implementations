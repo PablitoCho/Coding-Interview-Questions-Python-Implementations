{
 "cells": [
  {
   "cell_type": "code",
   "execution_count": 58,
   "metadata": {},
   "outputs": [
    {
     "name": "stdout",
     "output_type": "stream",
     "text": [
      "Once deleted, variables cannot be recovered. Proceed (y/[n])? y\n"
     ]
    }
   ],
   "source": [
    "%reset\n",
    "class ArrayStack:\n",
    "    def __init__(self):\n",
    "        self.capacity = None\n",
    "        self.top = None\n",
    "        self.array = list()\n",
    "        \n",
    "    def CreateStack(self):\n",
    "        self.capacity = 1\n",
    "        self.top = -1\n",
    "        \n",
    "    def IsEmptyStack(self):\n",
    "        return self.top == -1\n",
    "    \n",
    "    def IsFullStack(self):\n",
    "        return self.top == self.capacity - 1\n",
    "    \n",
    "    def Push(self, data):\n",
    "        if self.IsFullStack():\n",
    "            print(\"Stack Overflow\")\n",
    "        else:\n",
    "            self.top += 1\n",
    "            self.array.append(data)\n",
    "            \n",
    "    def Pop(self):\n",
    "        if self.IsEmptyStack():\n",
    "            print(\"Stack is empty\")\n",
    "            return 0\n",
    "        else:\n",
    "            temp = self.array[self.top]\n",
    "            self.top -= 1\n",
    "            return temp"
   ]
  },
  {
   "cell_type": "code",
   "execution_count": 76,
   "metadata": {},
   "outputs": [
    {
     "name": "stdout",
     "output_type": "stream",
     "text": [
      "Once deleted, variables cannot be recovered. Proceed (y/[n])? y\n"
     ]
    }
   ],
   "source": [
    "%reset\n",
    "class DynArrayStack:\n",
    "    def __init__(self):\n",
    "        self.top = None\n",
    "        self.capacity = None\n",
    "        self.array = None\n",
    "        \n",
    "    def CreateStack(self):\n",
    "        self.capacity = 1\n",
    "        self.top = -1\n",
    "        self.array = [None] * self.capacity\n",
    "        \n",
    "    def IsFullStack(self):\n",
    "        return self.top == self.capacity -1\n",
    "    \n",
    "    def DoubleStack(self):\n",
    "        self.capacity *= 2\n",
    "        self.array = self.array + [None]*len(self.array)\n",
    "    \n",
    "    def Push(self, x):\n",
    "        if self.IsFullStack():\n",
    "            self.DoubleStack()\n",
    "        self.top += 1\n",
    "        self.array[self.top] = x\n",
    "\n",
    "    def IsEmptyStack(self):\n",
    "        return self.top == -1\n",
    "        \n",
    "    def Pop(self):\n",
    "        if self.IsEmptyStack():\n",
    "            print(\"Stack is Empty\")\n",
    "        else:\n",
    "            tmp = self.top\n",
    "            self.top -= 1\n",
    "            return self.array[tmp]"
   ]
  },
  {
   "cell_type": "code",
   "execution_count": 37,
   "metadata": {},
   "outputs": [
    {
     "name": "stdout",
     "output_type": "stream",
     "text": [
      "Once deleted, variables cannot be recovered. Proceed (y/[n])? y\n"
     ]
    }
   ],
   "source": [
    "%reset\n",
    "# Create Stack using linked list\n",
    "class ListNode:\n",
    "    def __init__(self, data):\n",
    "        self.data = data\n",
    "        self.next = None\n",
    "class Stack:\n",
    "    def CreateStack(self):\n",
    "        self.top = ListNode(None)\n",
    "        pass\n",
    "    \n",
    "    def Push(self, data):\n",
    "        newNode = ListNode(data)\n",
    "        newNode.next = self.top\n",
    "        self.top = newNode\n",
    "        \n",
    "    def IsEmptyStack(self):\n",
    "        return self.top.data == None\n",
    "    \n",
    "    def Pop(self):\n",
    "        temp = self.top\n",
    "        self.top = self.top.next\n",
    "        data = temp.data\n",
    "        return data\n",
    "    \n",
    "    def Top(self):\n",
    "        if self.IsEmptyStack():\n",
    "            print(\"Stack is empty.\")\n",
    "        else:\n",
    "            return self.top.data"
   ]
  },
  {
   "cell_type": "code",
   "execution_count": 38,
   "metadata": {},
   "outputs": [],
   "source": [
    "myStack = Stack()\n",
    "myStack.CreateStack()\n",
    "myStack.Push(1)\n",
    "myStack.Push(2)\n",
    "myStack.Push(3)"
   ]
  },
  {
   "cell_type": "code",
   "execution_count": 40,
   "metadata": {},
   "outputs": [
    {
     "data": {
      "text/plain": [
       "3"
      ]
     },
     "execution_count": 40,
     "metadata": {},
     "output_type": "execute_result"
    }
   ],
   "source": [
    "myStack.Top()"
   ]
  },
  {
   "cell_type": "code",
   "execution_count": null,
   "metadata": {},
   "outputs": [],
   "source": []
  }
 ],
 "metadata": {
  "kernelspec": {
   "display_name": "Python 3",
   "language": "python",
   "name": "python3"
  },
  "language_info": {
   "codemirror_mode": {
    "name": "ipython",
    "version": 3
   },
   "file_extension": ".py",
   "mimetype": "text/x-python",
   "name": "python",
   "nbconvert_exporter": "python",
   "pygments_lexer": "ipython3",
   "version": "3.5.5"
  }
 },
 "nbformat": 4,
 "nbformat_minor": 2
}
