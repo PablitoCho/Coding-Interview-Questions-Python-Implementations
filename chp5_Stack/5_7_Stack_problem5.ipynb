{
 "cells": [
  {
   "cell_type": "code",
   "execution_count": 4,
   "metadata": {},
   "outputs": [
    {
     "name": "stdout",
     "output_type": "stream",
     "text": [
      "Once deleted, variables cannot be recovered. Proceed (y/[n])? y\n"
     ]
    }
   ],
   "source": [
    "%reset\n",
    "# GetMinimum\n",
    "def IsEmptyStack(stack):\n",
    "    return len(stack) == 0\n",
    "\n",
    "class AdvancedStack:\n",
    "    def __init__(self):\n",
    "        self.elementStack = []\n",
    "        self.minStack = []\n",
    "    def Push(self, data):\n",
    "        self.elementStack.append(data)\n",
    "        if IsEmptyStack(self.minStack) or self.minStack[-1] >= data:\n",
    "            self.minStack.append(data)\n",
    "        else:\n",
    "            self.minStack.append(self.minStack[-1])\n",
    "    def Pop(self):\n",
    "        if IsEmptyStack(self.elementStack):\n",
    "            return -1\n",
    "        else:\n",
    "            self.minStack.pop()\n",
    "            return self.elementStack.pop()"
   ]
  },
  {
   "cell_type": "code",
   "execution_count": 5,
   "metadata": {},
   "outputs": [],
   "source": [
    "inputs = [2,6,4,1,5]\n",
    "myStack = AdvancedStack()\n",
    "for i in inputs:\n",
    "    myStack.Push(i)"
   ]
  },
  {
   "cell_type": "code",
   "execution_count": 6,
   "metadata": {},
   "outputs": [
    {
     "data": {
      "text/plain": [
       "[2, 6, 4, 1, 5]"
      ]
     },
     "execution_count": 6,
     "metadata": {},
     "output_type": "execute_result"
    }
   ],
   "source": [
    "myStack.elementStack"
   ]
  },
  {
   "cell_type": "code",
   "execution_count": 8,
   "metadata": {},
   "outputs": [
    {
     "data": {
      "text/plain": [
       "[2, 2, 2, 1, 1]"
      ]
     },
     "execution_count": 8,
     "metadata": {},
     "output_type": "execute_result"
    }
   ],
   "source": [
    "myStack.minStack"
   ]
  },
  {
   "cell_type": "code",
   "execution_count": null,
   "metadata": {},
   "outputs": [],
   "source": []
  }
 ],
 "metadata": {
  "kernelspec": {
   "display_name": "Python 3",
   "language": "python",
   "name": "python3"
  },
  "language_info": {
   "codemirror_mode": {
    "name": "ipython",
    "version": 3
   },
   "file_extension": ".py",
   "mimetype": "text/x-python",
   "name": "python",
   "nbconvert_exporter": "python",
   "pygments_lexer": "ipython3",
   "version": "3.5.5"
  }
 },
 "nbformat": 4,
 "nbformat_minor": 2
}
