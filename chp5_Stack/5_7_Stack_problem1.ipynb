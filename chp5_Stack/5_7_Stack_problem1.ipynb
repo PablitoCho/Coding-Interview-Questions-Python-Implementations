{
 "cells": [
  {
   "cell_type": "code",
   "execution_count": 20,
   "metadata": {},
   "outputs": [
    {
     "name": "stdout",
     "output_type": "stream",
     "text": [
      "Once deleted, variables cannot be recovered. Proceed (y/[n])? y\n"
     ]
    }
   ],
   "source": [
    "%reset\n",
    "input1 = '(A+B)+(C-B)'\n",
    "input2 = '((A+B)+(C-D)'\n",
    "input3 = '((A+B)+[C-D])'\n",
    "input4 = '((A+B)+[C-D]}'\n",
    "OPENERS = ['(', '[', '{']\n",
    "CLOSERS = [')', ']', '}']\n",
    "def Balancer(string):\n",
    "    stack1 = []; stack2 = []; stack3 = []\n",
    "    for s in list(string):\n",
    "        if s in OPENERS[0]:\n",
    "            stack1.append(s)\n",
    "        elif s in OPENERS[1]:\n",
    "            stack2.append(s)\n",
    "        elif s in OPENERS[2]:\n",
    "            stack3.append(s)\n",
    "        if s in CLOSERS[0]:\n",
    "            try:\n",
    "                stack1.pop()\n",
    "            except:\n",
    "                return False\n",
    "        elif s in CLOSERS[1]:\n",
    "            try:\n",
    "                stack2.pop()\n",
    "            except:\n",
    "                return False\n",
    "        elif s in CLOSERS[2]:\n",
    "            try:\n",
    "                stack3.pop()\n",
    "            except:\n",
    "                return False\n",
    "    return len(stack1+stack2+stack3) == 0"
   ]
  },
  {
   "cell_type": "code",
   "execution_count": 25,
   "metadata": {},
   "outputs": [
    {
     "data": {
      "text/plain": [
       "False"
      ]
     },
     "execution_count": 25,
     "metadata": {},
     "output_type": "execute_result"
    }
   ],
   "source": [
    "Balancer(input4)"
   ]
  },
  {
   "cell_type": "code",
   "execution_count": null,
   "metadata": {},
   "outputs": [],
   "source": []
  }
 ],
 "metadata": {
  "kernelspec": {
   "display_name": "Python 3",
   "language": "python",
   "name": "python3"
  },
  "language_info": {
   "codemirror_mode": {
    "name": "ipython",
    "version": 3
   },
   "file_extension": ".py",
   "mimetype": "text/x-python",
   "name": "python",
   "nbconvert_exporter": "python",
   "pygments_lexer": "ipython3",
   "version": "3.5.5"
  }
 },
 "nbformat": 4,
 "nbformat_minor": 2
}
