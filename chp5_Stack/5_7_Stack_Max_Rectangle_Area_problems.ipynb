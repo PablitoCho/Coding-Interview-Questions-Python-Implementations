{
 "cells": [
  {
   "cell_type": "code",
   "execution_count": 23,
   "metadata": {},
   "outputs": [
    {
     "name": "stdout",
     "output_type": "stream",
     "text": [
      "Once deleted, variables cannot be recovered. Proceed (y/[n])? y\n"
     ]
    }
   ],
   "source": [
    "%reset\n",
    "# problem 23, 24. Find maximun rectangle area\n",
    "input1 = [3, 2, 5, 6, 1, 4, 4] # 10\n",
    "input2 = [8, 5, 2, 4, 1, 3, 5]"
   ]
  },
  {
   "cell_type": "code",
   "execution_count": 50,
   "metadata": {},
   "outputs": [],
   "source": [
    "class Bar:\n",
    "    def __init__(self, index, height):\n",
    "        self.index = index\n",
    "        self.height = height\n",
    "    def __repr__(self):\n",
    "        return '(' + str(self.index) + ', ' + str(self.height) + ')'\n",
    "\n",
    "def MaxRectangleArea(arr):\n",
    "    # needs parameters\n",
    "    # top, left, currentArea, maxArea, and stack\n",
    "    num_bars = len(arr)\n",
    "    stack = []\n",
    "    top = -1 # nothing in stack at first\n",
    "    maxArea = -1\n",
    "    for i in range(num_bars+1):\n",
    "        print(' i : ' + str(i) + ' loop =================================== top is ' + str(top))\n",
    "        while top >= 0 and (i == num_bars or arr[i] < stack[top].height):\n",
    "            print('In while loop')\n",
    "            bar = stack.pop()\n",
    "            top -= 1\n",
    "            # cal area\n",
    "            height = bar.height\n",
    "            if top == -1:\n",
    "                width = bar.index + 1\n",
    "            else:\n",
    "                width = i - bar.index\n",
    "            currentArea = height * width\n",
    "            # update\n",
    "            if maxArea < currentArea:\n",
    "                maxArea = currentArea\n",
    "            print('index ' + str(i) + ' : max area is ' + str(maxArea) + ' with height : ' + str(height) + ' width : ' + str(width))\n",
    "        if i < num_bars:\n",
    "            top += 1\n",
    "            stack.append(Bar(i, arr[i]))\n",
    "            print(stack)\n",
    "    return maxArea"
   ]
  },
  {
   "cell_type": "code",
   "execution_count": 52,
   "metadata": {},
   "outputs": [
    {
     "name": "stdout",
     "output_type": "stream",
     "text": [
      " i : 0 loop =================================== top is -1\n",
      "[(0, 8)]\n",
      "0\n",
      " i : 1 loop =================================== top is 0\n",
      "In while loop\n",
      "index 1 : max area is 8 with height : 8 width : 1\n",
      "[(1, 5)]\n",
      "0\n",
      " i : 2 loop =================================== top is 0\n",
      "In while loop\n",
      "index 2 : max area is 10 with height : 5 width : 2\n",
      "[(2, 2)]\n",
      "0\n",
      " i : 3 loop =================================== top is 0\n",
      "[(2, 2), (3, 4)]\n",
      "1\n",
      " i : 4 loop =================================== top is 1\n",
      "In while loop\n",
      "index 4 : max area is 10 with height : 4 width : 1\n",
      "In while loop\n",
      "index 4 : max area is 10 with height : 2 width : 3\n",
      "[(4, 1)]\n",
      "0\n",
      " i : 5 loop =================================== top is 0\n",
      "[(4, 1), (5, 3)]\n",
      "1\n",
      " i : 6 loop =================================== top is 1\n",
      "[(4, 1), (5, 3), (6, 5)]\n",
      "2\n",
      " i : 7 loop =================================== top is 2\n",
      "In while loop\n",
      "index 7 : max area is 10 with height : 5 width : 1\n",
      "In while loop\n",
      "index 7 : max area is 10 with height : 3 width : 2\n",
      "In while loop\n",
      "index 7 : max area is 10 with height : 1 width : 5\n"
     ]
    },
    {
     "data": {
      "text/plain": [
       "10"
      ]
     },
     "execution_count": 52,
     "metadata": {},
     "output_type": "execute_result"
    }
   ],
   "source": [
    "MaxRectangleArea(input2)"
   ]
  },
  {
   "cell_type": "code",
   "execution_count": null,
   "metadata": {},
   "outputs": [],
   "source": []
  }
 ],
 "metadata": {
  "kernelspec": {
   "display_name": "Python 3",
   "language": "python",
   "name": "python3"
  },
  "language_info": {
   "codemirror_mode": {
    "name": "ipython",
    "version": 3
   },
   "file_extension": ".py",
   "mimetype": "text/x-python",
   "name": "python",
   "nbconvert_exporter": "python",
   "pygments_lexer": "ipython3",
   "version": "3.5.5"
  }
 },
 "nbformat": 4,
 "nbformat_minor": 2
}
