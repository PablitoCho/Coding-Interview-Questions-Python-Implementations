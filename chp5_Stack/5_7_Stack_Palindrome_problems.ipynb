{
 "cells": [
  {
   "cell_type": "code",
   "execution_count": 1,
   "metadata": {},
   "outputs": [
    {
     "name": "stdout",
     "output_type": "stream",
     "text": [
      "Once deleted, variables cannot be recovered. Proceed (y/[n])? y\n"
     ]
    }
   ],
   "source": [
    "%reset\n",
    "input1 = 'aabbcbbaa' # palindrome\n",
    "input2 = 'abccbd'    # not"
   ]
  },
  {
   "cell_type": "code",
   "execution_count": 2,
   "metadata": {},
   "outputs": [],
   "source": [
    "def IsPalindrome(string):\n",
    "    start = 0\n",
    "    end = len(string) - 1\n",
    "    while start < end and string[start] == string[end]:\n",
    "        start += 1\n",
    "        end -= 1\n",
    "    if start < end:\n",
    "        print(\"Not a palindrome\")\n",
    "        return 0\n",
    "    else:\n",
    "        print(\"Palindrome\")\n",
    "        return 1"
   ]
  },
  {
   "cell_type": "code",
   "execution_count": 4,
   "metadata": {},
   "outputs": [
    {
     "name": "stdout",
     "output_type": "stream",
     "text": [
      "Not a palindrome\n"
     ]
    },
    {
     "data": {
      "text/plain": [
       "0"
      ]
     },
     "execution_count": 4,
     "metadata": {},
     "output_type": "execute_result"
    }
   ],
   "source": [
    "IsPalindrome(input2)"
   ]
  },
  {
   "cell_type": "code",
   "execution_count": 23,
   "metadata": {},
   "outputs": [],
   "source": [
    "string1 = 'ababaXababa' # palindrome\n",
    "string2 = 'ababaXababb' # not a palindrome\n",
    "def IsPalindrome_using_stack(string):\n",
    "    stack = []\n",
    "    idx = 0\n",
    "    while string[idx] != 'X':\n",
    "        stack.append(string[idx])\n",
    "        idx += 1\n",
    "    while idx < len(string):\n",
    "        if stack[-1] == string[idx]:\n",
    "            stack.pop()\n",
    "        idx += 1\n",
    "    return len(stack) == 0"
   ]
  },
  {
   "cell_type": "code",
   "execution_count": 25,
   "metadata": {},
   "outputs": [
    {
     "data": {
      "text/plain": [
       "True"
      ]
     },
     "execution_count": 25,
     "metadata": {},
     "output_type": "execute_result"
    }
   ],
   "source": [
    "IsPalindrome_using_stack(string1)"
   ]
  },
  {
   "cell_type": "code",
   "execution_count": null,
   "metadata": {},
   "outputs": [],
   "source": []
  }
 ],
 "metadata": {
  "kernelspec": {
   "display_name": "Python 3",
   "language": "python",
   "name": "python3"
  },
  "language_info": {
   "codemirror_mode": {
    "name": "ipython",
    "version": 3
   },
   "file_extension": ".py",
   "mimetype": "text/x-python",
   "name": "python",
   "nbconvert_exporter": "python",
   "pygments_lexer": "ipython3",
   "version": "3.5.5"
  }
 },
 "nbformat": 4,
 "nbformat_minor": 2
}
