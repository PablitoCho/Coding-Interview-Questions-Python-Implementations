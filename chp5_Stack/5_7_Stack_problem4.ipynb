{
 "cells": [
  {
   "cell_type": "code",
   "execution_count": 20,
   "metadata": {},
   "outputs": [
    {
     "name": "stdout",
     "output_type": "stream",
     "text": [
      "Once deleted, variables cannot be recovered. Proceed (y/[n])? y\n"
     ]
    }
   ],
   "source": [
    "%reset\n",
    "# calculator for infix expression using two stacks\n",
    "input1 = '1+2-3' # 0\n",
    "input2 = '2+3*5' # 17\n",
    "input3 = '1*2-(3+4)*5' # -33\n",
    "input4 = '2+3*4' # 14\n",
    "input5 = '(2+3)*4' # 20"
   ]
  },
  {
   "cell_type": "code",
   "execution_count": 23,
   "metadata": {},
   "outputs": [],
   "source": [
    "OPERATORS = set(['+', '-', '*', '/'])\n",
    "PRIORITY = {'+':1, '-':1, '*':2, '/':2}\n",
    "\n",
    "def cal(operand1, operand2, operator):\n",
    "    if operator == '+':\n",
    "        return int(operand1) + int(operand2)\n",
    "    elif operator == '-':\n",
    "        return int(operand1) - int(operand2)\n",
    "    elif operator == '*':\n",
    "        return int(operand1) * int(operand2)\n",
    "    elif operator == '/':\n",
    "        return int(operand1) / int(operand2)\n",
    "\n",
    "def infix_calculator(formula):\n",
    "    formula_list = list(formula)\n",
    "    operand_stack = []\n",
    "    operator_stack = []\n",
    "    for ch in formula_list:\n",
    "        if ch not in OPERATORS and ch != '(' and ch != ')':\n",
    "            # ch is operand\n",
    "            operand_stack.append(ch)\n",
    "        elif ch == '(':\n",
    "            operator_stack.append(ch)\n",
    "        elif ch == ')':\n",
    "            while operator_stack[-1] != '(':\n",
    "                operator = operator_stack.pop()\n",
    "                operand2 = operand_stack.pop()\n",
    "                operand1 = operand_stack.pop()\n",
    "                operand_stack.append(cal(operand1, operand2, operator))\n",
    "            operator_stack.pop()\n",
    "        elif ch in OPERATORS:\n",
    "            operator_stack.append(ch)\n",
    "    while operator_stack:\n",
    "        operator = operator_stack.pop()\n",
    "        operand2 = operand_stack.pop()\n",
    "        operand1 = operand_stack.pop()\n",
    "        operand_stack.append(cal(operand1, operand2, operator))\n",
    "    return int(operand_stack.pop())"
   ]
  },
  {
   "cell_type": "code",
   "execution_count": 24,
   "metadata": {},
   "outputs": [
    {
     "data": {
      "text/plain": [
       "20"
      ]
     },
     "execution_count": 24,
     "metadata": {},
     "output_type": "execute_result"
    }
   ],
   "source": [
    "infix_calculator(input5)"
   ]
  },
  {
   "cell_type": "code",
   "execution_count": null,
   "metadata": {},
   "outputs": [],
   "source": []
  }
 ],
 "metadata": {
  "kernelspec": {
   "display_name": "Python 3",
   "language": "python",
   "name": "python3"
  },
  "language_info": {
   "codemirror_mode": {
    "name": "ipython",
    "version": 3
   },
   "file_extension": ".py",
   "mimetype": "text/x-python",
   "name": "python",
   "nbconvert_exporter": "python",
   "pygments_lexer": "ipython3",
   "version": "3.5.5"
  }
 },
 "nbformat": 4,
 "nbformat_minor": 2
}
