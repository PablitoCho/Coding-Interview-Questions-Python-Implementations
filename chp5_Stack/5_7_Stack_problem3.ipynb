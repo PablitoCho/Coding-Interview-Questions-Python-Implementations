{
 "cells": [
  {
   "cell_type": "code",
   "execution_count": 6,
   "metadata": {},
   "outputs": [
    {
     "name": "stdout",
     "output_type": "stream",
     "text": [
      "Once deleted, variables cannot be recovered. Proceed (y/[n])? y\n"
     ]
    }
   ],
   "source": [
    "%reset\n",
    "input1 = '123*+5-'\n",
    "OPERATORS = set(['+', '-', '*', '/'])\n",
    "\n",
    "def cal(operand1, operand2, operator):\n",
    "    if operator == '+':\n",
    "        return int(operand1) + int(operand2)\n",
    "    elif operator == '-':\n",
    "        return int(operand1) - int(operand2)        \n",
    "    elif operator == '*':\n",
    "        return int(operand1) * int(operand2)        \n",
    "    elif operator == '/':\n",
    "        return int(operand1) / int(operand2)\n",
    "        \n",
    "def postfix_calculator(postfix):\n",
    "    input_list = list(postfix)\n",
    "    stack = []\n",
    "    for ch in input_list:\n",
    "        if ch not in OPERATORS:\n",
    "            stack.append(ch)\n",
    "        else:\n",
    "            temp1 = stack.pop()\n",
    "            temp2 = stack.pop()\n",
    "            stack.append(cal(temp2, temp1, ch))\n",
    "    return stack.pop()"
   ]
  },
  {
   "cell_type": "code",
   "execution_count": 7,
   "metadata": {},
   "outputs": [
    {
     "name": "stdout",
     "output_type": "stream",
     "text": [
      "1\n",
      "['1']\n",
      "2\n",
      "['1', '2']\n",
      "3\n",
      "['1', '2', '3']\n",
      "*\n",
      "['1', 6]\n",
      "+\n",
      "[7]\n",
      "5\n",
      "[7, '5']\n",
      "-\n",
      "[2]\n"
     ]
    },
    {
     "data": {
      "text/plain": [
       "2"
      ]
     },
     "execution_count": 7,
     "metadata": {},
     "output_type": "execute_result"
    }
   ],
   "source": [
    "postfix_calculator(input1)"
   ]
  },
  {
   "cell_type": "code",
   "execution_count": null,
   "metadata": {},
   "outputs": [],
   "source": []
  }
 ],
 "metadata": {
  "kernelspec": {
   "display_name": "Python 3",
   "language": "python",
   "name": "python3"
  },
  "language_info": {
   "codemirror_mode": {
    "name": "ipython",
    "version": 3
   },
   "file_extension": ".py",
   "mimetype": "text/x-python",
   "name": "python",
   "nbconvert_exporter": "python",
   "pygments_lexer": "ipython3",
   "version": "3.5.5"
  }
 },
 "nbformat": 4,
 "nbformat_minor": 2
}
