{
 "cells": [
  {
   "cell_type": "code",
   "execution_count": 8,
   "metadata": {},
   "outputs": [
    {
     "name": "stdout",
     "output_type": "stream",
     "text": [
      "Once deleted, variables cannot be recovered. Proceed (y/[n])? y\n"
     ]
    }
   ],
   "source": [
    "%reset\n",
    "input1 = '123*+5-'\n",
    "OPERATORS = set(['+', '-', '*', '/'])\n",
    "\n",
    "def cal(operand1, operand2, operator):\n",
    "    if operator == '+':\n",
    "        return int(operand1) + int(operand2)\n",
    "    elif operator == '-':\n",
    "        return int(operand1) - int(operand2)        \n",
    "    elif operator == '*':\n",
    "        return int(operand1) * int(operand2)        \n",
    "    elif operator == '/':\n",
    "        return int(operand1) / int(operand2)\n",
    "        \n",
    "def postfix_calculator(postfix):\n",
    "    input_list = list(postfix)\n",
    "    stack = []\n",
    "    for ch in input_list:\n",
    "        if ch not in OPERATORS:\n",
    "            stack.append(ch)\n",
    "        else:\n",
    "            temp1 = stack.pop()\n",
    "            temp2 = stack.pop()\n",
    "            stack.append(cal(temp2, temp1, ch))\n",
    "    return stack.pop()"
   ]
  },
  {
   "cell_type": "code",
   "execution_count": 9,
   "metadata": {},
   "outputs": [
    {
     "data": {
      "text/plain": [
       "2"
      ]
     },
     "execution_count": 9,
     "metadata": {},
     "output_type": "execute_result"
    }
   ],
   "source": [
    "postfix_calculator(input1)"
   ]
  },
  {
   "cell_type": "code",
   "execution_count": null,
   "metadata": {},
   "outputs": [],
   "source": []
  }
 ],
 "metadata": {
  "kernelspec": {
   "display_name": "Python 3",
   "language": "python",
   "name": "python3"
  },
  "language_info": {
   "codemirror_mode": {
    "name": "ipython",
    "version": 3
   },
   "file_extension": ".py",
   "mimetype": "text/x-python",
   "name": "python",
   "nbconvert_exporter": "python",
   "pygments_lexer": "ipython3",
   "version": "3.5.5"
  }
 },
 "nbformat": 4,
 "nbformat_minor": 2
}
