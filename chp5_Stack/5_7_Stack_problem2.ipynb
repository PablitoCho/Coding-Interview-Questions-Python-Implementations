{
 "cells": [
  {
   "cell_type": "code",
   "execution_count": 37,
   "metadata": {},
   "outputs": [
    {
     "name": "stdout",
     "output_type": "stream",
     "text": [
      "Once deleted, variables cannot be recovered. Proceed (y/[n])? y\n"
     ]
    }
   ],
   "source": [
    "%reset\n",
    "input1 = 'A'\n",
    "input2 = 'A+B'\n",
    "input3 = '(A+B)+(C-D)'\n",
    "input4 = 'A*B-(C+D)+E'\n",
    "input5 = 'A+B*C'\n",
    "input6 = '1+(3+4*6+6*1)*2/3'\n",
    "OPERATORS = set(['+','-','*','/'])\n",
    "PRIORITY = {'+':1, '-':1, '*':2, '/':2}\n",
    "\n",
    "def to_postfix(formula):\n",
    "    list_formula = list(formula)\n",
    "    stack = []\n",
    "    out = ''\n",
    "    for ch in list_formula:\n",
    "        if ch not in OPERATORS and ch != '(' and ch != ')': # ch is operand\n",
    "            out += ch\n",
    "        elif ch is '(':\n",
    "            stack.append(ch)\n",
    "        elif ch is ')':\n",
    "            while stack and stack[-1] != '(':\n",
    "                out += stack.pop()\n",
    "            stack.pop() # Take away '(' \n",
    "        elif ch in OPERATORS:\n",
    "            if not stack or stack[-1] == '(':\n",
    "                stack.append(ch)\n",
    "            elif PRIORITY[stack[-1]] >= PRIORITY[ch]:\n",
    "                out += stack.pop()\n",
    "                stack.append(ch)\n",
    "            else:\n",
    "                stack.append(ch)\n",
    "        else: # something wrong\n",
    "            print('Given formula is badly formed.')\n",
    "            return None\n",
    "    while stack:\n",
    "        out += stack.pop()\n",
    "    return out"
   ]
  },
  {
   "cell_type": "code",
   "execution_count": null,
   "metadata": {},
   "outputs": [],
   "source": []
  }
 ],
 "metadata": {
  "kernelspec": {
   "display_name": "Python 3",
   "language": "python",
   "name": "python3"
  },
  "language_info": {
   "codemirror_mode": {
    "name": "ipython",
    "version": 3
   },
   "file_extension": ".py",
   "mimetype": "text/x-python",
   "name": "python",
   "nbconvert_exporter": "python",
   "pygments_lexer": "ipython3",
   "version": "3.5.5"
  }
 },
 "nbformat": 4,
 "nbformat_minor": 2
}
