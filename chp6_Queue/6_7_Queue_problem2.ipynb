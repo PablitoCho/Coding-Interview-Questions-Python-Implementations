{
 "cells": [
  {
   "cell_type": "code",
   "execution_count": 4,
   "metadata": {},
   "outputs": [
    {
     "name": "stdout",
     "output_type": "stream",
     "text": [
      "Once deleted, variables cannot be recovered. Proceed (y/[n])? y\n"
     ]
    }
   ],
   "source": [
    "%reset\n",
    "# implement queue using two stacks\n",
    "def IsEmptyStack(stack):\n",
    "    return len(stack) == 0\n",
    "\n",
    "class Queue:\n",
    "    def __init__(self):\n",
    "        self.stack1 = [] # for enqueue\n",
    "        self.stack2 = [] # for dequeue\n",
    "        \n",
    "    def EnQueue(self, data):\n",
    "        self.stack1.append(data)\n",
    "        \n",
    "    def DeQueue(self):\n",
    "        if not IsEmptyStack(self.stack2):\n",
    "            return self.stack2.pop()\n",
    "        else:\n",
    "            if IsEmptyStack(self.stack1):\n",
    "                print('Stack is empty')\n",
    "                return None\n",
    "            while not IsEmptyStack(self.stack1):\n",
    "                self.stack2.append(self.stack1.pop())\n",
    "            return self.stack2.pop()"
   ]
  },
  {
   "cell_type": "code",
   "execution_count": 5,
   "metadata": {},
   "outputs": [],
   "source": [
    "queue = Queue()\n",
    "for i in range(10):\n",
    "    queue.EnQueue(i)"
   ]
  },
  {
   "cell_type": "code",
   "execution_count": null,
   "metadata": {},
   "outputs": [],
   "source": []
  }
 ],
 "metadata": {
  "kernelspec": {
   "display_name": "Python 3",
   "language": "python",
   "name": "python3"
  },
  "language_info": {
   "codemirror_mode": {
    "name": "ipython",
    "version": 3
   },
   "file_extension": ".py",
   "mimetype": "text/x-python",
   "name": "python",
   "nbconvert_exporter": "python",
   "pygments_lexer": "ipython3",
   "version": "3.5.5"
  }
 },
 "nbformat": 4,
 "nbformat_minor": 2
}
