{
 "cells": [
  {
   "cell_type": "code",
   "execution_count": 35,
   "metadata": {},
   "outputs": [
    {
     "name": "stdout",
     "output_type": "stream",
     "text": [
      "Once deleted, variables cannot be recovered. Proceed (y/[n])? y\n"
     ]
    }
   ],
   "source": [
    "%reset\n",
    "# queue with standard library\n",
    "from collections import deque\n",
    "\n",
    "def IsEmptyQueue(queue):\n",
    "    if queue:\n",
    "        return False\n",
    "    else:\n",
    "        return True\n",
    "\n",
    "# implement stack using two queues\n",
    "class Stack:\n",
    "    def __init__(self):\n",
    "        self.queue1 = deque()\n",
    "        self.queue2 = deque()\n",
    "    \n",
    "    def Push(self, data):\n",
    "        if IsEmptyQueue(self.queue1):\n",
    "            self.queue2.append(data)\n",
    "        else:\n",
    "            self.queue1.append(data)\n",
    "            \n",
    "    def Pop(self):\n",
    "        if IsEmptyQueue(self.queue1) and not IsEmptyQueue(self.queue2):\n",
    "            for i in range(len(self.queue2) - 1):\n",
    "                self.queue1.append(self.queue2.popleft())\n",
    "            return self.queue2.popleft()\n",
    "        elif IsEmptyQueue(self.queue2) and not IsEmptyQueue(self.queue1):\n",
    "            for i in range(len(self.queue1) - 1):\n",
    "                self.queue2.append(self.queue1.popleft())\n",
    "            return self.queue1.popleft()\n",
    "        elif IsEmptyQueue(self.queue2) and IsEmptyQueue(self.queue2):\n",
    "            print('Stack is empty.')\n",
    "            return None"
   ]
  },
  {
   "cell_type": "code",
   "execution_count": 36,
   "metadata": {},
   "outputs": [],
   "source": [
    "myStack = Stack()"
   ]
  },
  {
   "cell_type": "code",
   "execution_count": 45,
   "metadata": {},
   "outputs": [],
   "source": [
    "myStack.Push(1)\n",
    "myStack.Push(2)\n",
    "myStack.Push(3)\n",
    "myStack.Push(4)\n",
    "myStack.Push(5)"
   ]
  },
  {
   "cell_type": "code",
   "execution_count": 51,
   "metadata": {},
   "outputs": [
    {
     "name": "stdout",
     "output_type": "stream",
     "text": [
      "Stack is empty.\n"
     ]
    }
   ],
   "source": [
    "myStack.Pop()"
   ]
  },
  {
   "cell_type": "code",
   "execution_count": null,
   "metadata": {},
   "outputs": [],
   "source": []
  }
 ],
 "metadata": {
  "kernelspec": {
   "display_name": "Python 3",
   "language": "python",
   "name": "python3"
  },
  "language_info": {
   "codemirror_mode": {
    "name": "ipython",
    "version": 3
   },
   "file_extension": ".py",
   "mimetype": "text/x-python",
   "name": "python",
   "nbconvert_exporter": "python",
   "pygments_lexer": "ipython3",
   "version": "3.5.5"
  }
 },
 "nbformat": 4,
 "nbformat_minor": 2
}
