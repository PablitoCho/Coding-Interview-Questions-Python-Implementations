{
 "cells": [
  {
   "cell_type": "code",
   "execution_count": 1,
   "metadata": {},
   "outputs": [
    {
     "name": "stdout",
     "output_type": "stream",
     "text": [
      "Once deleted, variables cannot be recovered. Proceed (y/[n])? y\n"
     ]
    }
   ],
   "source": [
    "%reset\n",
    "# Circular Queue implementation\n",
    "class ArrayQueue:\n",
    "    def __init__(self, size):\n",
    "        self.front = -1\n",
    "        self.rear = -1\n",
    "        self.capacity = size\n",
    "        self.array = [None] * size\n",
    "        \n",
    "    def IsEmptyQueue(self):\n",
    "        return self.front == -1\n",
    "    \n",
    "    def IsFullQueue(self):\n",
    "        return (self.rear + 1) % self.capacity == self.front\n",
    "    \n",
    "    def QueueSize(self):\n",
    "        return (self.capacity - self.front + self.rear + 1) % self.capacity\n",
    "    \n",
    "    def EnQueue(self, data):\n",
    "        if self.IsFullQueue():\n",
    "            print('Queue overflow')\n",
    "        else:\n",
    "            self.rear = (self.rear) + 1 % self.capacity\n",
    "            self.array[self.rear] = data\n",
    "            if self.front == -1:\n",
    "                self.front = self.rear\n",
    "    \n",
    "    def DeQueue(self):\n",
    "        if self.IsEmptyQueue():\n",
    "            print('Queue is Empty')\n",
    "        else:\n",
    "            data = self.array[self.front]\n",
    "            if self.front == self.rear:\n",
    "                self.front = -1\n",
    "                self.rear = -1\n",
    "            else:\n",
    "                self.front = (self.front + 1) % self.capacity\n",
    "            return data"
   ]
  },
  {
   "cell_type": "code",
   "execution_count": 2,
   "metadata": {},
   "outputs": [],
   "source": [
    "queue = ArrayQueue(5)"
   ]
  },
  {
   "cell_type": "code",
   "execution_count": 3,
   "metadata": {},
   "outputs": [
    {
     "data": {
      "text/plain": [
       "3"
      ]
     },
     "execution_count": 3,
     "metadata": {},
     "output_type": "execute_result"
    }
   ],
   "source": [
    "queue.EnQueue(1)\n",
    "queue.EnQueue(2)\n",
    "queue.EnQueue(3)\n",
    "queue.QueueSize()"
   ]
  },
  {
   "cell_type": "code",
   "execution_count": 4,
   "metadata": {},
   "outputs": [
    {
     "data": {
      "text/plain": [
       "1"
      ]
     },
     "execution_count": 4,
     "metadata": {},
     "output_type": "execute_result"
    }
   ],
   "source": [
    "queue.DeQueue()"
   ]
  },
  {
   "cell_type": "code",
   "execution_count": 81,
   "metadata": {},
   "outputs": [],
   "source": [
    "class DynArrayQueue:\n",
    "    def __init__(self):\n",
    "        self.front = -1\n",
    "        self.rear = -1\n",
    "        self.capacity = 1\n",
    "        self.array = [None] # initialized with size 1\n",
    "        \n",
    "    def IsEmptyQueue(self):\n",
    "        return self.front == -1\n",
    "    \n",
    "    def IsFullQueue(self):\n",
    "        return (self.rear + 1) % self.capacity == self.front\n",
    "    \n",
    "    def QueueSize(self):\n",
    "        return (self.capacity - self.front + self.rear + 1) % self.capacity\n",
    "    \n",
    "    def EnQueue(self, data):\n",
    "        if self.IsFullQueue():\n",
    "            self.ResizeQueue()\n",
    "        self.rear = (self.rear + 1) % self.capacity\n",
    "        self.array[self.rear] = data\n",
    "        if self.front == -1:\n",
    "            self.front = self.rear\n",
    "    \n",
    "    def ResizeQueue(self):\n",
    "        size = self.capacity\n",
    "        self.capacity = 2*size\n",
    "        self.array = self.array + [None]*size\n",
    "        if self.front > self.rear:\n",
    "            for i in range(self.front):\n",
    "                self.array[i + size] = self.array[i]\n",
    "            self.rear = self.rear + size\n",
    "            \n",
    "    def DeQueue(self):\n",
    "        if self.IsEmptyQueue():\n",
    "            print('Queue is empty.')\n",
    "        else:\n",
    "            data = self.array[self.front]\n",
    "            if self.front == self.rear:\n",
    "                self.front = -1 \n",
    "                self.rear = -1\n",
    "            else:\n",
    "                self.front = (self.front + 1) % self.capacity\n",
    "            return data"
   ]
  },
  {
   "cell_type": "code",
   "execution_count": 82,
   "metadata": {},
   "outputs": [],
   "source": [
    "dynQueue = DynArrayQueue()\n",
    "dynQueue.EnQueue(1)\n",
    "dynQueue.EnQueue(2)\n",
    "dynQueue.EnQueue(3)\n",
    "dynQueue.EnQueue(4)\n",
    "dynQueue.EnQueue(5)"
   ]
  },
  {
   "cell_type": "code",
   "execution_count": 83,
   "metadata": {},
   "outputs": [
    {
     "data": {
      "text/plain": [
       "[1, 2, 3, 4, 5, None, None, None]"
      ]
     },
     "execution_count": 83,
     "metadata": {},
     "output_type": "execute_result"
    }
   ],
   "source": [
    "dynQueue.array"
   ]
  },
  {
   "cell_type": "code",
   "execution_count": 84,
   "metadata": {},
   "outputs": [
    {
     "data": {
      "text/plain": [
       "3"
      ]
     },
     "execution_count": 84,
     "metadata": {},
     "output_type": "execute_result"
    }
   ],
   "source": [
    "dynQueue.DeQueue()\n",
    "dynQueue.DeQueue()\n",
    "dynQueue.DeQueue()"
   ]
  },
  {
   "cell_type": "code",
   "execution_count": 85,
   "metadata": {},
   "outputs": [
    {
     "data": {
      "text/plain": [
       "[1, 2, 3, 4, 5, None, None, None]"
      ]
     },
     "execution_count": 85,
     "metadata": {},
     "output_type": "execute_result"
    }
   ],
   "source": [
    "dynQueue.array"
   ]
  },
  {
   "cell_type": "code",
   "execution_count": 86,
   "metadata": {},
   "outputs": [
    {
     "data": {
      "text/plain": [
       "3"
      ]
     },
     "execution_count": 86,
     "metadata": {},
     "output_type": "execute_result"
    }
   ],
   "source": [
    "dynQueue.front"
   ]
  },
  {
   "cell_type": "code",
   "execution_count": 87,
   "metadata": {},
   "outputs": [
    {
     "data": {
      "text/plain": [
       "4"
      ]
     },
     "execution_count": 87,
     "metadata": {},
     "output_type": "execute_result"
    }
   ],
   "source": [
    "dynQueue.rear"
   ]
  },
  {
   "cell_type": "code",
   "execution_count": 88,
   "metadata": {},
   "outputs": [
    {
     "data": {
      "text/plain": [
       "5"
      ]
     },
     "execution_count": 88,
     "metadata": {},
     "output_type": "execute_result"
    }
   ],
   "source": [
    "dynQueue.DeQueue()\n",
    "dynQueue.DeQueue()"
   ]
  },
  {
   "cell_type": "code",
   "execution_count": 89,
   "metadata": {},
   "outputs": [
    {
     "data": {
      "text/plain": [
       "[1, 2, 3, 4, 5, None, None, None]"
      ]
     },
     "execution_count": 89,
     "metadata": {},
     "output_type": "execute_result"
    }
   ],
   "source": [
    "dynQueue.array"
   ]
  },
  {
   "cell_type": "code",
   "execution_count": 90,
   "metadata": {},
   "outputs": [
    {
     "data": {
      "text/plain": [
       "True"
      ]
     },
     "execution_count": 90,
     "metadata": {},
     "output_type": "execute_result"
    }
   ],
   "source": [
    "dynQueue.IsEmptyQueue()"
   ]
  },
  {
   "cell_type": "code",
   "execution_count": 134,
   "metadata": {},
   "outputs": [
    {
     "name": "stdout",
     "output_type": "stream",
     "text": [
      "Once deleted, variables cannot be recovered. Proceed (y/[n])? y\n"
     ]
    }
   ],
   "source": [
    "%reset\n",
    "# using linked list\n",
    "class ListNode:\n",
    "    def __init__(self):\n",
    "        self.data = None\n",
    "        self.next = None\n",
    "    def __repr__(self):\n",
    "        if self.data is None:\n",
    "            return 'data is None'\n",
    "        else:\n",
    "            return 'data : ' + str(self.data)\n",
    "        \n",
    "class Queue:\n",
    "    def __init__(self):\n",
    "        self.front = ListNode()\n",
    "        self.rear = ListNode()\n",
    "        \n",
    "    def IsEmptyQueue(self):\n",
    "        if self.front.data is None:\n",
    "            return True\n",
    "        else:\n",
    "            return False\n",
    "    \n",
    "    def EnQueue(self, data):\n",
    "        newNode = ListNode()\n",
    "        newNode.data = data\n",
    "        self.rear.next = newNode\n",
    "        self.rear = newNode\n",
    "        if self.front.data is None:\n",
    "            self.front = self.rear\n",
    "            \n",
    "    def DeQueue(self):\n",
    "        temp = ListNode()\n",
    "        if self.IsEmptyQueue():\n",
    "            print('Queue is empty.')\n",
    "        else:\n",
    "            temp = self.front\n",
    "            data = self.front.data\n",
    "            if self.front.next is None:\n",
    "                # Queue is empty.\n",
    "                self.front = ListNode()\n",
    "                self.rear = self.front\n",
    "            else:\n",
    "                self.front = self.front.next\n",
    "            return data"
   ]
  },
  {
   "cell_type": "code",
   "execution_count": 135,
   "metadata": {},
   "outputs": [],
   "source": [
    "myQueue = Queue()"
   ]
  },
  {
   "cell_type": "code",
   "execution_count": 147,
   "metadata": {},
   "outputs": [],
   "source": [
    "myQueue.EnQueue(1)\n",
    "myQueue.EnQueue(2)\n",
    "myQueue.EnQueue(3)\n",
    "myQueue.EnQueue(4)\n",
    "myQueue.EnQueue(5)"
   ]
  },
  {
   "cell_type": "code",
   "execution_count": 157,
   "metadata": {},
   "outputs": [
    {
     "name": "stdout",
     "output_type": "stream",
     "text": [
      "Queue is empty.\n"
     ]
    }
   ],
   "source": [
    "myQueue.DeQueue()"
   ]
  },
  {
   "cell_type": "code",
   "execution_count": 156,
   "metadata": {},
   "outputs": [
    {
     "data": {
      "text/plain": [
       "True"
      ]
     },
     "execution_count": 156,
     "metadata": {},
     "output_type": "execute_result"
    }
   ],
   "source": [
    "myQueue.IsEmptyQueue()"
   ]
  },
  {
   "cell_type": "code",
   "execution_count": null,
   "metadata": {},
   "outputs": [],
   "source": []
  }
 ],
 "metadata": {
  "kernelspec": {
   "display_name": "Python 3",
   "language": "python",
   "name": "python3"
  },
  "language_info": {
   "codemirror_mode": {
    "name": "ipython",
    "version": 3
   },
   "file_extension": ".py",
   "mimetype": "text/x-python",
   "name": "python",
   "nbconvert_exporter": "python",
   "pygments_lexer": "ipython3",
   "version": "3.5.5"
  }
 },
 "nbformat": 4,
 "nbformat_minor": 2
}
