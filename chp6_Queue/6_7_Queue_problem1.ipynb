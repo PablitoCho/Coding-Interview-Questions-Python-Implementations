{
 "cells": [
  {
   "cell_type": "code",
   "execution_count": 18,
   "metadata": {},
   "outputs": [
    {
     "name": "stdout",
     "output_type": "stream",
     "text": [
      "Once deleted, variables cannot be recovered. Proceed (y/[n])? y\n"
     ]
    }
   ],
   "source": [
    "%reset\n",
    "# reverse queue\n",
    "class ListNode:\n",
    "    def __init__(self):\n",
    "        self.data = None\n",
    "        self.next = None\n",
    "    def __repr__(self):\n",
    "        if self.data is None:\n",
    "            return 'data is None'\n",
    "        else:\n",
    "            return 'data : ' + str(self.data)\n",
    "        \n",
    "class Queue:\n",
    "    def __init__(self):\n",
    "        self.front = ListNode()\n",
    "        self.rear = ListNode()\n",
    "        \n",
    "    def IsEmptyQueue(self):\n",
    "        if self.front.data is None:\n",
    "            return True\n",
    "        else:\n",
    "            return False\n",
    "    \n",
    "    def EnQueue(self, data):\n",
    "        newNode = ListNode()\n",
    "        newNode.data = data\n",
    "        self.rear.next = newNode\n",
    "        self.rear = newNode\n",
    "        if self.front.data is None:\n",
    "            self.front = self.rear\n",
    "            \n",
    "    def DeQueue(self):\n",
    "        temp = ListNode()\n",
    "        if self.IsEmptyQueue():\n",
    "            print('Queue is empty.')\n",
    "        else:\n",
    "            temp = self.front\n",
    "            data = self.front.data\n",
    "            if self.front.next is None:\n",
    "                # Queue is empty.\n",
    "                self.front = ListNode()\n",
    "                self.rear = self.front\n",
    "            else:\n",
    "                self.front = self.front.next\n",
    "            return data"
   ]
  },
  {
   "cell_type": "code",
   "execution_count": 19,
   "metadata": {},
   "outputs": [],
   "source": [
    "myQueue = Queue()"
   ]
  },
  {
   "cell_type": "code",
   "execution_count": 20,
   "metadata": {},
   "outputs": [],
   "source": [
    "for i in range(10):\n",
    "    myQueue.EnQueue(i)"
   ]
  },
  {
   "cell_type": "code",
   "execution_count": 23,
   "metadata": {},
   "outputs": [],
   "source": [
    "def ReverseQueue(queue):\n",
    "    stack = []\n",
    "    while not queue.IsEmptyQueue():\n",
    "        stack.append(queue.DeQueue())\n",
    "    while stack:\n",
    "        queue.EnQueue(stack.pop())\n",
    "    return queue"
   ]
  },
  {
   "cell_type": "code",
   "execution_count": 24,
   "metadata": {},
   "outputs": [],
   "source": [
    "reverseQueue = ReverseQueue(myQueue)"
   ]
  },
  {
   "cell_type": "code",
   "execution_count": 25,
   "metadata": {},
   "outputs": [
    {
     "name": "stdout",
     "output_type": "stream",
     "text": [
      "9\n",
      "8\n",
      "7\n",
      "6\n",
      "5\n",
      "4\n",
      "3\n",
      "2\n",
      "1\n",
      "0\n"
     ]
    }
   ],
   "source": [
    "while not reverseQueue.IsEmptyQueue():\n",
    "    print(reverseQueue.DeQueue())"
   ]
  },
  {
   "cell_type": "code",
   "execution_count": null,
   "metadata": {},
   "outputs": [],
   "source": []
  }
 ],
 "metadata": {
  "kernelspec": {
   "display_name": "Python 3",
   "language": "python",
   "name": "python3"
  },
  "language_info": {
   "codemirror_mode": {
    "name": "ipython",
    "version": 3
   },
   "file_extension": ".py",
   "mimetype": "text/x-python",
   "name": "python",
   "nbconvert_exporter": "python",
   "pygments_lexer": "ipython3",
   "version": "3.5.5"
  }
 },
 "nbformat": 4,
 "nbformat_minor": 2
}
