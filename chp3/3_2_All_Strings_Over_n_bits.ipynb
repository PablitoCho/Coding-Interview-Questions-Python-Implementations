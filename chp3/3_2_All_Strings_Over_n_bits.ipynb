{
 "cells": [
  {
   "cell_type": "code",
   "execution_count": 16,
   "metadata": {},
   "outputs": [],
   "source": [
    "def binary_strings(n, string):\n",
    "    if n==0:\n",
    "        print(''.join(string))\n",
    "    else:\n",
    "        string[-n] = '0'\n",
    "        binary_strings(n-1, string)\n",
    "        string[-n] = '1'\n",
    "        binary_strings(n-1, string)"
   ]
  },
  {
   "cell_type": "code",
   "execution_count": 20,
   "metadata": {},
   "outputs": [],
   "source": [
    "string = '******'\n",
    "list_str = list(string) # to make indexing possible"
   ]
  },
  {
   "cell_type": "code",
   "execution_count": 21,
   "metadata": {},
   "outputs": [
    {
     "name": "stdout",
     "output_type": "stream",
     "text": [
      "000000\n",
      "000001\n",
      "000010\n",
      "000011\n",
      "000100\n",
      "000101\n",
      "000110\n",
      "000111\n",
      "001000\n",
      "001001\n",
      "001010\n",
      "001011\n",
      "001100\n",
      "001101\n",
      "001110\n",
      "001111\n",
      "010000\n",
      "010001\n",
      "010010\n",
      "010011\n",
      "010100\n",
      "010101\n",
      "010110\n",
      "010111\n",
      "011000\n",
      "011001\n",
      "011010\n",
      "011011\n",
      "011100\n",
      "011101\n",
      "011110\n",
      "011111\n",
      "100000\n",
      "100001\n",
      "100010\n",
      "100011\n",
      "100100\n",
      "100101\n",
      "100110\n",
      "100111\n",
      "101000\n",
      "101001\n",
      "101010\n",
      "101011\n",
      "101100\n",
      "101101\n",
      "101110\n",
      "101111\n",
      "110000\n",
      "110001\n",
      "110010\n",
      "110011\n",
      "110100\n",
      "110101\n",
      "110110\n",
      "110111\n",
      "111000\n",
      "111001\n",
      "111010\n",
      "111011\n",
      "111100\n",
      "111101\n",
      "111110\n",
      "111111\n"
     ]
    }
   ],
   "source": [
    "binary_strings(6, list_str)"
   ]
  },
  {
   "cell_type": "code",
   "execution_count": null,
   "metadata": {},
   "outputs": [],
   "source": []
  }
 ],
 "metadata": {
  "kernelspec": {
   "display_name": "Python 3",
   "language": "python",
   "name": "python3"
  },
  "language_info": {
   "codemirror_mode": {
    "name": "ipython",
    "version": 3
   },
   "file_extension": ".py",
   "mimetype": "text/x-python",
   "name": "python",
   "nbconvert_exporter": "python",
   "pygments_lexer": "ipython3",
   "version": "3.5.5"
  }
 },
 "nbformat": 4,
 "nbformat_minor": 2
}
