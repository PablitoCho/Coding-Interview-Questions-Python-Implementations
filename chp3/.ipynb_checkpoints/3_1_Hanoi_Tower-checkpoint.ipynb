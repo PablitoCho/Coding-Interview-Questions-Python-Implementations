{
 "cells": [
  {
   "cell_type": "code",
   "execution_count": 2,
   "metadata": {},
   "outputs": [
    {
     "name": "stdout",
     "output_type": "stream",
     "text": [
      "Once deleted, variables cannot be recovered. Proceed (y/[n])? y\n"
     ]
    },
    {
     "data": {
      "text/plain": [
       "' \\n        (from)       (helper)        (target)\\n         peg A         peg B          peg C\\n         ( | )           |              |\\n        (  |  )          |              |\\n       (   |   )         |              |\\n      (    |    )        |              |\\n     (     |     )       |              |\\n    ---------------------------------------------\\n'"
      ]
     },
     "execution_count": 2,
     "metadata": {},
     "output_type": "execute_result"
    }
   ],
   "source": [
    "%reset\n",
    "\"\"\" \n",
    "        (from)        (auxiliary)     (to)\n",
    "         peg A         peg B          peg C\n",
    "         ( | )           |              |\n",
    "        (  |  )          |              |\n",
    "       (   |   )         |              |\n",
    "      (    |    )        |              |\n",
    "     (     |     )       |              |\n",
    "    --------------------------------------------\n",
    "\"\"\""
   ]
  },
  {
   "cell_type": "code",
   "execution_count": 7,
   "metadata": {},
   "outputs": [],
   "source": [
    "def Hanoi_Tower(n, from_peg, to_peg, aux_peg):\n",
    "    if n == 1: # base case\n",
    "        print('Move disk from ' + from_peg + ' to ' + to_peg)\n",
    "    else:\n",
    "        Hanoi_Tower(n-1, from_peg, aux_peg, to_peg)\n",
    "        print('Move ' + str(n-1) + ' disks from ' + from_peg + ' to ' + aux_peg + ' using ' + to_peg + ' as auxiliary bar.')\n",
    "        print('Move disk from ' + from_peg + ' to ' + to_peg)\n",
    "        Hanoi_Tower(n-1, aux_peg, to_peg, from_peg)"
   ]
  },
  {
   "cell_type": "code",
   "execution_count": 8,
   "metadata": {},
   "outputs": [
    {
     "name": "stdout",
     "output_type": "stream",
     "text": [
      "Move disk from A to C\n",
      "Move 1 disks from A to C using B as auxiliary bar.\n",
      "Move disk from A to B\n",
      "Move disk from C to B\n",
      "Move 2 disks from A to B using C as auxiliary bar.\n",
      "Move disk from A to C\n",
      "Move disk from B to A\n",
      "Move 1 disks from B to A using C as auxiliary bar.\n",
      "Move disk from B to C\n",
      "Move disk from A to C\n"
     ]
    }
   ],
   "source": [
    "Hanoi_Tower(3, 'A', 'C', 'B')"
   ]
  },
  {
   "cell_type": "code",
   "execution_count": null,
   "metadata": {},
   "outputs": [],
   "source": []
  }
 ],
 "metadata": {
  "kernelspec": {
   "display_name": "Python 3",
   "language": "python",
   "name": "python3"
  },
  "language_info": {
   "codemirror_mode": {
    "name": "ipython",
    "version": 3
   },
   "file_extension": ".py",
   "mimetype": "text/x-python",
   "name": "python",
   "nbconvert_exporter": "python",
   "pygments_lexer": "ipython3",
   "version": "3.5.5"
  }
 },
 "nbformat": 4,
 "nbformat_minor": 2
}
