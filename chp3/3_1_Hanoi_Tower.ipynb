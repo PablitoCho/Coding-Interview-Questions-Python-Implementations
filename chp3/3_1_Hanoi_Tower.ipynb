{
 "cells": [
  {
   "cell_type": "code",
   "execution_count": 41,
   "metadata": {},
   "outputs": [
    {
     "name": "stdout",
     "output_type": "stream",
     "text": [
      "Once deleted, variables cannot be recovered. Proceed (y/[n])? y\n"
     ]
    },
    {
     "data": {
      "text/plain": [
       "' \\n        (from)        (auxiliary)     (to)\\n         peg A         peg B          peg C\\n         ( | )           |              |\\n        (  |  )          |              |\\n       (   |   )         |              |\\n      (    |    )        |              |\\n     (     |     )       |              |\\n    --------------------------------------------\\n'"
      ]
     },
     "execution_count": 41,
     "metadata": {},
     "output_type": "execute_result"
    }
   ],
   "source": [
    "%reset\n",
    "\"\"\" \n",
    "        (from)        (auxiliary)     (to)\n",
    "         peg A         peg B          peg C\n",
    "         ( | )           |              |\n",
    "        (  |  )          |              |\n",
    "       (   |   )         |              |\n",
    "      (    |    )        |              |\n",
    "     (     |     )       |              |\n",
    "    --------------------------------------------\n",
    "\"\"\""
   ]
  },
  {
   "cell_type": "code",
   "execution_count": 49,
   "metadata": {},
   "outputs": [],
   "source": [
    "def Hanoi_Tower(n, from_peg, to_peg, aux_peg):\n",
    "    if n == 1: # base case\n",
    "        print('Move disk from ' + from_peg + ' to ' + to_peg)\n",
    "    else:\n",
    "        Hanoi_Tower(n-1, from_peg, aux_peg, to_peg)\n",
    "        #print('Move ' + str(n-1) + ' disks from ' + from_peg + ' to ' + aux_peg + ' using ' + to_peg + ' as auxiliary bar.')\n",
    "        print('Move disk from ' + from_peg + ' to ' + to_peg)\n",
    "        Hanoi_Tower(n-1, aux_peg, to_peg, from_peg)"
   ]
  },
  {
   "cell_type": "code",
   "execution_count": 50,
   "metadata": {},
   "outputs": [
    {
     "name": "stdout",
     "output_type": "stream",
     "text": [
      "Move disk from A to C\n",
      "Move disk from A to B\n",
      "Move disk from C to B\n",
      "Move disk from A to C\n",
      "Move disk from B to A\n",
      "Move disk from B to C\n",
      "Move disk from A to C\n"
     ]
    }
   ],
   "source": [
    "Hanoi_Tower(3, 'A', 'C', 'B')"
   ]
  },
  {
   "cell_type": "code",
   "execution_count": 119,
   "metadata": {},
   "outputs": [],
   "source": [
    "# using lists as queue\n",
    "def Hanoi_Tower_Queue(n, from_peg, to_peg, aux_peg):\n",
    "    if n == 1: # base case\n",
    "        to_peg.append(from_peg.pop())\n",
    "    else:\n",
    "        Hanoi_Tower_Queue(n-1, from_peg, aux_peg, to_peg)\n",
    "        to_peg.append(from_peg.pop())\n",
    "        Hanoi_Tower_Queue(n-1, aux_peg, to_peg, from_peg)"
   ]
  },
  {
   "cell_type": "code",
   "execution_count": 120,
   "metadata": {},
   "outputs": [],
   "source": [
    "from_peg = [4,3,2,1]\n",
    "to_peg = []; aux_peg = []\n",
    "while len(from_peg) > 0 and len(to_peg) < 4:\n",
    "    Hanoi_Tower_Queue(4, from_peg, to_peg, aux_peg)"
   ]
  },
  {
   "cell_type": "code",
   "execution_count": 121,
   "metadata": {},
   "outputs": [
    {
     "data": {
      "text/plain": [
       "[]"
      ]
     },
     "execution_count": 121,
     "metadata": {},
     "output_type": "execute_result"
    }
   ],
   "source": [
    "from_peg"
   ]
  },
  {
   "cell_type": "code",
   "execution_count": 122,
   "metadata": {},
   "outputs": [
    {
     "data": {
      "text/plain": [
       "[]"
      ]
     },
     "execution_count": 122,
     "metadata": {},
     "output_type": "execute_result"
    }
   ],
   "source": [
    "aux_peg"
   ]
  },
  {
   "cell_type": "code",
   "execution_count": 123,
   "metadata": {},
   "outputs": [
    {
     "data": {
      "text/plain": [
       "[4, 3, 2, 1]"
      ]
     },
     "execution_count": 123,
     "metadata": {},
     "output_type": "execute_result"
    }
   ],
   "source": [
    "to_peg"
   ]
  },
  {
   "cell_type": "code",
   "execution_count": null,
   "metadata": {},
   "outputs": [],
   "source": []
  }
 ],
 "metadata": {
  "kernelspec": {
   "display_name": "Python 3",
   "language": "python",
   "name": "python3"
  },
  "language_info": {
   "codemirror_mode": {
    "name": "ipython",
    "version": 3
   },
   "file_extension": ".py",
   "mimetype": "text/x-python",
   "name": "python",
   "nbconvert_exporter": "python",
   "pygments_lexer": "ipython3",
   "version": "3.5.5"
  }
 },
 "nbformat": 4,
 "nbformat_minor": 2
}
