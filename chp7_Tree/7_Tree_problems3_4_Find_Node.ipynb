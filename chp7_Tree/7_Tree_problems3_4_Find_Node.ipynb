{
 "cells": [
  {
   "cell_type": "code",
   "execution_count": 21,
   "metadata": {},
   "outputs": [
    {
     "name": "stdout",
     "output_type": "stream",
     "text": [
      "Once deleted, variables cannot be recovered. Proceed (y/[n])? y\n"
     ]
    }
   ],
   "source": [
    "%reset\n",
    "from collections import deque\n",
    "\n",
    "class BinaryTreeNode:\n",
    "    def __init__(self, data):\n",
    "        self.data = data\n",
    "        self.left = None\n",
    "        self.right = None       \n",
    "    def __repr__(self):\n",
    "        return '(' + str(self.data) + ', ' + ('None' if self.left is None else str(self.left.data)) + ', ' + ('None' if self.right is None else str(self.right.data)) + ')'\n",
    "    def __eq__(self, other):\n",
    "        return id(self) == id(other)\n",
    "    \n",
    "class BinaryTree:\n",
    "    def __init__(self, root):\n",
    "        self.root = root\n",
    "    ### Essential operations\n",
    "    ## insert node\n",
    "    def InsertNode(self, data):\n",
    "        queue = deque()\n",
    "        tempNode = BinaryTreeNode(None)\n",
    "        newNode = BinaryTreeNode(data)\n",
    "        queue.append(self.root)\n",
    "        while queue:\n",
    "            temp = queue.popleft()\n",
    "            if temp.left:\n",
    "                queue.append(temp.left)\n",
    "            else:\n",
    "                temp.left = newNode\n",
    "                break\n",
    "            if temp.right:\n",
    "                queue.append(temp.right)\n",
    "            else:\n",
    "                temp.right = newNode\n",
    "                break\n",
    "        \n",
    "    ## search node\n",
    "    def _findNode(self, node, data):\n",
    "        if node is None:\n",
    "            return False\n",
    "        else:\n",
    "            if node.data == data:\n",
    "                return True\n",
    "            else:\n",
    "                left_flag = self._findNode(node.left, data)\n",
    "                right_flag = self._findNode(node.right, data)\n",
    "                return left_flag or right_flag\n",
    "            \n",
    "    def FindInBinaryTreeUsingRecursion(self, data):\n",
    "        root = self.root\n",
    "        return self._findNode(root, data)\n",
    "    \n",
    "    def SearchUsingLevelOrder(self, data):\n",
    "        queue = deque()\n",
    "        root = self.root\n",
    "        queue.append(root)\n",
    "        while queue:\n",
    "            temp = queue.popleft()\n",
    "            #print(temp)\n",
    "            if temp.data == data:\n",
    "                return True\n",
    "            if temp.left:\n",
    "                queue.append(temp.left)\n",
    "            if temp.right:\n",
    "                queue.append(temp.right)\n",
    "        return False"
   ]
  },
  {
   "cell_type": "code",
   "execution_count": 22,
   "metadata": {},
   "outputs": [],
   "source": [
    "root = BinaryTreeNode(1) # root node\n",
    "myTree = BinaryTree(root)\n",
    "myTree.InsertNode(2)\n",
    "myTree.InsertNode(3)\n",
    "myTree.InsertNode(4)\n",
    "myTree.InsertNode(5)\n",
    "myTree.InsertNode(6)\n",
    "myTree.InsertNode(7)"
   ]
  },
  {
   "cell_type": "code",
   "execution_count": 23,
   "metadata": {},
   "outputs": [
    {
     "data": {
      "text/plain": [
       "False"
      ]
     },
     "execution_count": 23,
     "metadata": {},
     "output_type": "execute_result"
    }
   ],
   "source": [
    "myTree.FindInBinaryTreeUsingRecursion(8)"
   ]
  },
  {
   "cell_type": "code",
   "execution_count": 24,
   "metadata": {},
   "outputs": [
    {
     "name": "stdout",
     "output_type": "stream",
     "text": [
      "(1, 2, 3)\n",
      "(2, 4, 5)\n",
      "(3, 6, 7)\n",
      "(4, None, None)\n",
      "(5, None, None)\n",
      "(6, None, None)\n",
      "(7, None, None)\n"
     ]
    },
    {
     "data": {
      "text/plain": [
       "False"
      ]
     },
     "execution_count": 24,
     "metadata": {},
     "output_type": "execute_result"
    }
   ],
   "source": [
    "myTree.SearchUsingLevelOrder(8)"
   ]
  },
  {
   "cell_type": "code",
   "execution_count": null,
   "metadata": {},
   "outputs": [],
   "source": []
  }
 ],
 "metadata": {
  "kernelspec": {
   "display_name": "Python 3",
   "language": "python",
   "name": "python3"
  },
  "language_info": {
   "codemirror_mode": {
    "name": "ipython",
    "version": 3
   },
   "file_extension": ".py",
   "mimetype": "text/x-python",
   "name": "python",
   "nbconvert_exporter": "python",
   "pygments_lexer": "ipython3",
   "version": "3.5.5"
  }
 },
 "nbformat": 4,
 "nbformat_minor": 2
}
