{
 "cells": [
  {
   "cell_type": "code",
   "execution_count": 1,
   "metadata": {},
   "outputs": [
    {
     "name": "stdout",
     "output_type": "stream",
     "text": [
      "Once deleted, variables cannot be recovered. Proceed (y/[n])? y\n"
     ]
    }
   ],
   "source": [
    "%reset\n",
    "from collections import deque\n",
    "\n",
    "class BinaryTreeNode:\n",
    "    def __init__(self, data):\n",
    "        self.data = data\n",
    "        self.left = None\n",
    "        self.right = None       \n",
    "    def __repr__(self):\n",
    "        return '(' + str(self.data) + ', ' + ('None' if self.left is None else str(self.left.data)) + ', ' + ('None' if self.right is None else str(self.right.data)) + ')'\n",
    "    def __eq__(self, other):\n",
    "        return id(self) == id(other)\n",
    "    \n",
    "class BinaryTree:\n",
    "    def __init__(self, root):\n",
    "        self.root = root\n",
    "    ### Essential operations\n",
    "    ## insert node\n",
    "    def InsertNode(self, data):\n",
    "        queue = deque()\n",
    "        tempNode = BinaryTreeNode(None)\n",
    "        newNode = BinaryTreeNode(data)\n",
    "        queue.append(self.root)\n",
    "        while queue:\n",
    "            temp = queue.popleft()\n",
    "            if temp.left:\n",
    "                queue.append(temp.left)\n",
    "            else:\n",
    "                temp.left = newNode\n",
    "                break\n",
    "            if temp.right:\n",
    "                queue.append(temp.right)\n",
    "            else:\n",
    "                temp.right = newNode\n",
    "                break"
   ]
  },
  {
   "cell_type": "code",
   "execution_count": null,
   "metadata": {},
   "outputs": [],
   "source": [
    "def LevelOrderTraversalInReverse"
   ]
  }
 ],
 "metadata": {
  "kernelspec": {
   "display_name": "Python 3",
   "language": "python",
   "name": "python3"
  },
  "language_info": {
   "codemirror_mode": {
    "name": "ipython",
    "version": 3
   },
   "file_extension": ".py",
   "mimetype": "text/x-python",
   "name": "python",
   "nbconvert_exporter": "python",
   "pygments_lexer": "ipython3",
   "version": "3.5.5"
  }
 },
 "nbformat": 4,
 "nbformat_minor": 2
}
