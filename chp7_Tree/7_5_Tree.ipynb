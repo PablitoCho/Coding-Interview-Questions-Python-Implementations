{
 "cells": [
  {
   "cell_type": "code",
   "execution_count": 23,
   "metadata": {},
   "outputs": [
    {
     "name": "stdout",
     "output_type": "stream",
     "text": [
      "Once deleted, variables cannot be recovered. Proceed (y/[n])? y\n"
     ]
    }
   ],
   "source": [
    "%reset\n",
    "from collections import deque\n",
    "\n",
    "class BinaryTreeNode:\n",
    "    def __init__(self, data):\n",
    "        self.data = data\n",
    "        self.left = None\n",
    "        self.right = None\n",
    "        \n",
    "    def __repr__(self):\n",
    "        return '(' + str(self.data) + ', ' + ('None' if self.left is None else str(self.left.data)) + ', ' + ('None' if self.right is None else str(self.right.data)) + ')'\n",
    "        \n",
    "class BinaryTree:\n",
    "    def __init__(self, root):\n",
    "        self.root = root\n",
    "    ### Essential operations\n",
    "    ## insert node\n",
    "    def InsertNode(self, data):\n",
    "        queue = deque()\n",
    "        tempNode = BinaryTreeNode(None)\n",
    "        newNode = BinaryTreeNode(data)\n",
    "        queue.append(self.root)\n",
    "        while queue:\n",
    "            temp = queue.popleft()\n",
    "            if temp.left:\n",
    "                queue.append(temp.left)\n",
    "            else:\n",
    "                temp.left = newNode\n",
    "                break\n",
    "            if temp.right:\n",
    "                queue.append(temp.right)\n",
    "            else:\n",
    "                temp.right = newNode\n",
    "                break\n",
    "        \n",
    "    ## delete node \n",
    "    \n",
    "    ## search node\n",
    "    \n",
    "    ## traverse nodes\n",
    "    def printNode(self, node, order):\n",
    "        if node:\n",
    "            if order == 'pre':\n",
    "                print(node.data)\n",
    "                self.printNode(node.left, order=order)\n",
    "                self.printNode(node.right, order=order)\n",
    "            elif order == 'in':\n",
    "                self.printNode(node.left, order=order)\n",
    "                print(node.data)\n",
    "                self.printNode(node.right, order=order)\n",
    "            elif order == 'post':\n",
    "                self.printNode(node.left, order=order)\n",
    "                self.printNode(node.right, order=order)\n",
    "                print(node.data)\n",
    "    # pre-order\n",
    "    def PreOrder_Recursive(self):\n",
    "        self.printNode(self.root, order='pre')\n",
    "\n",
    "    def PreOrder_NonRecursive(self):\n",
    "        stack = []\n",
    "        root = self.root\n",
    "        while True:\n",
    "            while root:\n",
    "                print(root.data)\n",
    "                stack.append(root)\n",
    "                root = root.left\n",
    "            if not stack:\n",
    "                break\n",
    "            root = stack.pop()\n",
    "            root = root.right\n",
    "            \n",
    "    # in-order\n",
    "    def InOrder_Recursive(self):\n",
    "        self.printNode(self.root, order='in')\n",
    "    \n",
    "    def InOrder_NonRecursive(self):\n",
    "        stack = []\n",
    "        root = self.root\n",
    "        while True:\n",
    "            while root:\n",
    "                stack.append(root)\n",
    "                root = root.left\n",
    "            if not stack:\n",
    "                break\n",
    "            root = stack.pop()\n",
    "            print(root.data)\n",
    "            root = root.right\n",
    "            \n",
    "            \n",
    "    # post-order\n",
    "    def PostOrder_Recursive(self):\n",
    "        self.printNode(self.root, order='post')\n",
    "\n",
    "    def PostOrder_NonRecursive(self):\n",
    "        ## TO DO\n",
    "            \n",
    "        \n",
    "    #### Auxiliary operations\n",
    "    ## find size of tree\n",
    "    \n",
    "    ## find height of tree\n",
    "    \n",
    "    ## find the lever with the largest sum\n",
    "    \n",
    "    ## find Least Common Ancestor given nodes\n",
    "    "
   ]
  },
  {
   "cell_type": "code",
   "execution_count": 24,
   "metadata": {},
   "outputs": [],
   "source": [
    "root = BinaryTreeNode(1) # root node\n",
    "myTree = BinaryTree(root)\n",
    "myTree.InsertNode(2)\n",
    "myTree.InsertNode(3)\n",
    "myTree.InsertNode(4)\n",
    "myTree.InsertNode(5)\n",
    "myTree.InsertNode(6)\n",
    "myTree.InsertNode(7)"
   ]
  },
  {
   "cell_type": "code",
   "execution_count": 25,
   "metadata": {},
   "outputs": [
    {
     "name": "stdout",
     "output_type": "stream",
     "text": [
      "4\n",
      "2\n",
      "5\n",
      "1\n",
      "6\n",
      "3\n",
      "7\n"
     ]
    }
   ],
   "source": [
    "myTree.InOrder_NonRecursive()"
   ]
  },
  {
   "cell_type": "code",
   "execution_count": null,
   "metadata": {},
   "outputs": [],
   "source": []
  }
 ],
 "metadata": {
  "kernelspec": {
   "display_name": "Python 3",
   "language": "python",
   "name": "python3"
  },
  "language_info": {
   "codemirror_mode": {
    "name": "ipython",
    "version": 3
   },
   "file_extension": ".py",
   "mimetype": "text/x-python",
   "name": "python",
   "nbconvert_exporter": "python",
   "pygments_lexer": "ipython3",
   "version": "3.5.5"
  }
 },
 "nbformat": 4,
 "nbformat_minor": 2
}
