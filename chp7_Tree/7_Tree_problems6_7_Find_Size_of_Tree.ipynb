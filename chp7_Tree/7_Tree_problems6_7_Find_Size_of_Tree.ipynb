{
 "cells": [
  {
   "cell_type": "code",
   "execution_count": 1,
   "metadata": {},
   "outputs": [
    {
     "name": "stdout",
     "output_type": "stream",
     "text": [
      "Once deleted, variables cannot be recovered. Proceed (y/[n])? y\n"
     ]
    }
   ],
   "source": [
    "%reset\n",
    "from collections import deque\n",
    "\n",
    "class BinaryTreeNode:\n",
    "    def __init__(self, data):\n",
    "        self.data = data\n",
    "        self.left = None\n",
    "        self.right = None       \n",
    "    def __repr__(self):\n",
    "        return '(' + str(self.data) + ', ' + ('None' if self.left is None else str(self.left.data)) + ', ' + ('None' if self.right is None else str(self.right.data)) + ')'\n",
    "    def __eq__(self, other):\n",
    "        return id(self) == id(other)\n",
    "    \n",
    "class BinaryTree:\n",
    "    def __init__(self, root):\n",
    "        self.root = root\n",
    "    ### Essential operations\n",
    "    ## insert node\n",
    "    def InsertNode(self, data):\n",
    "        queue = deque()\n",
    "        tempNode = BinaryTreeNode(None)\n",
    "        newNode = BinaryTreeNode(data)\n",
    "        queue.append(self.root)\n",
    "        while queue:\n",
    "            temp = queue.popleft()\n",
    "            if temp.left:\n",
    "                queue.append(temp.left)\n",
    "            else:\n",
    "                temp.left = newNode\n",
    "                break\n",
    "            if temp.right:\n",
    "                queue.append(temp.right)\n",
    "            else:\n",
    "                temp.right = newNode\n",
    "                break"
   ]
  },
  {
   "cell_type": "code",
   "execution_count": 3,
   "metadata": {},
   "outputs": [],
   "source": [
    "def SizeOfBinaryTree(root):\n",
    "    if root is None:\n",
    "        return 0\n",
    "    else:\n",
    "        return SizeOfBinaryTree(root.left) + 1 + SizeOfBinaryTree(root.right)"
   ]
  },
  {
   "cell_type": "code",
   "execution_count": null,
   "metadata": {},
   "outputs": [],
   "source": [
    "def SizeOfBTUsingLevelOrder(root):\n",
    "    "
   ]
  },
  {
   "cell_type": "code",
   "execution_count": 4,
   "metadata": {},
   "outputs": [],
   "source": [
    "root = BinaryTreeNode(1) # root node\n",
    "myTree = BinaryTree(root)\n",
    "myTree.InsertNode(2)\n",
    "myTree.InsertNode(3)\n",
    "myTree.InsertNode(4)\n",
    "myTree.InsertNode(5)\n",
    "myTree.InsertNode(6)\n",
    "myTree.InsertNode(7)"
   ]
  },
  {
   "cell_type": "code",
   "execution_count": 5,
   "metadata": {},
   "outputs": [
    {
     "data": {
      "text/plain": [
       "7"
      ]
     },
     "execution_count": 5,
     "metadata": {},
     "output_type": "execute_result"
    }
   ],
   "source": [
    "SizeOfBinaryTree(root)"
   ]
  },
  {
   "cell_type": "code",
   "execution_count": null,
   "metadata": {},
   "outputs": [],
   "source": []
  }
 ],
 "metadata": {
  "kernelspec": {
   "display_name": "Python 3",
   "language": "python",
   "name": "python3"
  },
  "language_info": {
   "codemirror_mode": {
    "name": "ipython",
    "version": 3
   },
   "file_extension": ".py",
   "mimetype": "text/x-python",
   "name": "python",
   "nbconvert_exporter": "python",
   "pygments_lexer": "ipython3",
   "version": "3.5.5"
  }
 },
 "nbformat": 4,
 "nbformat_minor": 2
}
